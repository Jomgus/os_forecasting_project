{
 "cells": [
  {
   "cell_type": "markdown",
   "id": "b35befc5",
   "metadata": {},
   "source": [
    "# Preprocessing: OS Market Share Data from Steam Hardware Survey\n",
    "\n",
    "This notebook loads the raw OS usage dataset, filters and aggregates it into a clean monthly time series for Linux, macOS, and Windows. The output is saved as a CSV in `data/processed/`.\n"
   ]
  },
  {
   "cell_type": "code",
   "execution_count": null,
   "id": "f974c640",
   "metadata": {},
   "outputs": [],
   "source": [
    "import pandas as pd\n",
    "import os\n",
    "\n",
    "df = pd.read_parquet(\"data/raw/steam_hw_survey.parquet\")\n",
    "\n",
    "df_total_os = df[df[\"category\"] == \"OS Version (total)\"].copy()\n",
    "\n",
    "df_os_share = df_total_os.pivot_table(\n",
    "    index=\"date\",\n",
    "    columns=\"index\",    # OS label (e.g., Windows, OSX, Linux)\n",
    "    values=\"perc\",      # Market share percentage\n",
    "    aggfunc=\"sum\"\n",
    ")\n",
    "\n",
    "# Forward fill any missing values\n",
    "df_os_share = df_os_share.fillna(method=\"ffill\")\n",
    "\n",
    "os.makedirs(\"data/processed\", exist_ok=True)\n",
    "df_os_share.to_csv(\"data/processed/os_monthly_marketshare.csv\")\n",
    "\n",
    "print(\"Saved cleaned dataset to data/processed/os_monthly_marketshare.csv\")\n"
   ]
  }
 ],
 "metadata": {
  "kernelspec": {
   "display_name": "Python 3",
   "language": "python",
   "name": "python3"
  },
  "language_info": {
   "codemirror_mode": {
    "name": "ipython",
    "version": 3
   },
   "file_extension": ".py",
   "mimetype": "text/x-python",
   "name": "python",
   "nbconvert_exporter": "python",
   "pygments_lexer": "ipython3",
   "version": "3.11.13"
  }
 },
 "nbformat": 4,
 "nbformat_minor": 5
}
